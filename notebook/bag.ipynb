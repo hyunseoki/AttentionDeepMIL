{
 "cells": [
  {
   "cell_type": "code",
   "execution_count": 1,
   "metadata": {},
   "outputs": [],
   "source": [
    "import numpy as np\n",
    "import matplotlib.pyplot as plt\n",
    "import torch\n",
    "from torchvision import datasets, transforms"
   ]
  },
  {
   "cell_type": "code",
   "execution_count": 2,
   "metadata": {},
   "outputs": [],
   "source": [
    "class Config:\n",
    "    positive_class = 8 ## 8이 포함되면 \n",
    "    \n",
    "    bag_size = 3\n",
    "    train_bag_count = 1000\n",
    "    val_bag_count = 300\n",
    "\n",
    "cfg = Config()"
   ]
  },
  {
   "cell_type": "code",
   "execution_count": 3,
   "metadata": {},
   "outputs": [
    {
     "name": "stdout",
     "output_type": "stream",
     "text": [
      "number of training data :  60000\n",
      "number of test data :  10000\n"
     ]
    }
   ],
   "source": [
    "train_data = datasets.MNIST(root='../data/',\n",
    "                            train=True,\n",
    "                            download=True,\n",
    "                            )\n",
    "                            # transform=transforms.ToTensor())\n",
    "test_data = datasets.MNIST(root = '../data/',\n",
    "                           train=False,\n",
    "                           download=True,\n",
    "                            )\n",
    "                        #    transform=transforms.ToTensor())\n",
    "\n",
    "print('number of training data : ', len(train_data))\n",
    "print('number of test data : ', len(test_data))"
   ]
  },
  {
   "cell_type": "code",
   "execution_count": 4,
   "metadata": {},
   "outputs": [],
   "source": [
    "input_data = list()\n",
    "input_labels = list()\n",
    "\n",
    "for data in train_data:\n",
    "    input_data.append(np.array(data[0]))\n",
    "    input_labels.append(data[1])\n",
    "\n",
    "input_data = np.array(input_data)\n",
    "input_labels = np.array(input_labels)"
   ]
  },
  {
   "cell_type": "code",
   "execution_count": 6,
   "metadata": {},
   "outputs": [
    {
     "data": {
      "image/png": "[encoded data removed]",
      "text/plain": [
       "<Figure size 100x100 with 1 Axes>"
      ]
     },
     "metadata": {},
     "output_type": "display_data"
    }
   ],
   "source": [
    "idx = np.random.randint(0, input_data.shape[0])\n",
    "plt.figure(figsize=(1,1))\n",
    "plt.axis('off')\n",
    "plt.title(input_labels[idx])\n",
    "plt.imshow(input_data[idx], 'gray')\n",
    "plt.show()"
   ]
  },
  {
   "cell_type": "code",
   "execution_count": 19,
   "metadata": {},
   "outputs": [
    {
     "name": "stdout",
     "output_type": "stream",
     "text": [
      "Positive bags: 262\n",
      "Negative bags: 738\n"
     ]
    }
   ],
   "source": [
    "bags = []\n",
    "bag_labels = []\n",
    "\n",
    "for _ in range(cfg.train_bag_count):\n",
    "    index = np.random.choice(input_data.shape[0], cfg.bag_size, replace=False) ## 비복원 추출\n",
    "    instances_data = input_data[index]\n",
    "    instances_labels = input_labels[index]\n",
    "\n",
    "    bag_label = 0\n",
    "    if cfg.positive_class in instances_labels:\n",
    "        bag_label = 1\n",
    "\n",
    "    bags.append(instances_data)\n",
    "    bag_labels.append(bag_label)\n",
    "\n",
    "bags = np.array(bags)\n",
    "bags = np.expand_dims(bags, axis=2)\n",
    "bag_labels = np.array(bag_labels)\n",
    "\n",
    "positive_count = bag_labels.sum()\n",
    "\n",
    "print(f\"Positive bags: {positive_count}\")\n",
    "print(f\"Negative bags: {cfg.train_bag_count - positive_count}\")"
   ]
  },
  {
   "cell_type": "code",
   "execution_count": 20,
   "metadata": {},
   "outputs": [
    {
     "data": {
      "text/plain": [
       "(1000, 3, 1, 28, 28)"
      ]
     },
     "execution_count": 20,
     "metadata": {},
     "output_type": "execute_result"
    }
   ],
   "source": [
    "bags.shape"
   ]
  }
 ],
 "metadata": {
  "kernelspec": {
   "display_name": "hyunseoki",
   "language": "python",
   "name": "python3"
  },
  "language_info": {
   "codemirror_mode": {
    "name": "ipython",
    "version": 3
   },
   "file_extension": ".py",
   "mimetype": "text/x-python",
   "name": "python",
   "nbconvert_exporter": "python",
   "pygments_lexer": "ipython3",
   "version": "3.9.16"
  }
 },
 "nbformat": 4,
 "nbformat_minor": 2
}
